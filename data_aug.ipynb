{
 "cells": [
  {
   "cell_type": "code",
   "execution_count": 5,
   "id": "0d981e4a",
   "metadata": {},
   "outputs": [],
   "source": [
    "import os\n",
    "import numpy as np\n",
    "import pandas as pd\n",
    "import matplotlib.pyplot as plt\n",
    "import seaborn as sns\n",
    "import librosa\n",
    "import librosa.display\n",
    "from IPython.display import Audio, display\n",
    "from sklearn.decomposition import PCA\n",
    "\n",
    "import torch\n",
    "import torch.nn as nn\n",
    "import torch.optim as optim\n",
    "import torch.nn.functional as F\n",
    "from torch.utils.data import TensorDataset, DataLoader\n",
    "\n",
    "from sklearn.ensemble import RandomForestClassifier, GradientBoostingClassifier\n",
    "from sklearn.model_selection import KFold, ParameterGrid, StratifiedKFold, train_test_split\n",
    "from sklearn.metrics import accuracy_score, roc_auc_score, f1_score, roc_curve, roc_auc_score\n",
    "from sklearn.utils.class_weight import compute_class_weight"
   ]
  },
  {
   "cell_type": "code",
   "execution_count": 6,
   "id": "4a8ba600",
   "metadata": {},
   "outputs": [],
   "source": [
    "SEED = 3            # semilla para reproductibilidad\n",
    "SR = 2000           # sampling rate\n",
    "N_FFT = 256         # tamaño de la ventana\n",
    "HOP_LENGTH = 63     # salto entre frames\n",
    "N_MELS = 64         # frequency bins (resolución)\n",
    "MAX_FREQ = 600      # máxima frecuencia para los espectrogramas"
   ]
  },
  {
   "cell_type": "code",
   "execution_count": 7,
   "id": "e4555b89",
   "metadata": {},
   "outputs": [],
   "source": [
    "def load_data(train_path:str, test_path:str, labels_path:str, sampling_rate=SR):\n",
    "    test_files = [f for f in os.listdir(test_path) if f.endswith('.aiff')]\n",
    "    labels_df = pd.read_csv(labels_path)\n",
    "\n",
    "    audio_df = labels_df.copy()\n",
    "    audio_df['filepath'] = audio_df['clip_name'].apply(lambda x: os.path.join(train_path, x))\n",
    "    audio_df['audio'] = audio_df['filepath'].apply(lambda path: librosa.load(path, sr=sampling_rate)[0])\n",
    "\n",
    "    return audio_df, labels_df, test_files\n",
    "\n",
    "def display_random_samples(dataset:pd.DataFrame, sampling_rate=SR):\n",
    "    np.random.seed(SEED)\n",
    "\n",
    "    # SAMPLES\n",
    "    whale_sample = dataset[dataset['label'] == 1].sample(5)['audio']\n",
    "    noise_sample = dataset[dataset['label'] == 0].sample(5)['audio']\n",
    "\n",
    "    # AUDIO\n",
    "    print('right whale call random audio sample')\n",
    "    display(Audio(np.array(whale_sample.iloc[0]), rate=sampling_rate*1.5))\n",
    "    print('\\nno whale random audio sample')\n",
    "    display(Audio(np.array(noise_sample.iloc[0]), rate=sampling_rate*1.5))\n",
    "\n",
    "    # SOUND-WAVE\n",
    "    fig, axes = plt.subplots(2, 5, figsize=(15, 5))\n",
    "\n",
    "    for i in range(5):\n",
    "        axes[0, i].plot(np.array(whale_sample.iloc[i]))\n",
    "        axes[0, i].set_title('Whale')\n",
    "        axes[0, i].set_xticks([])\n",
    "        axes[0, i].set_yticks([])\n",
    "\n",
    "        axes[1, i].plot(np.array(noise_sample.iloc[i]), color='#FF6961')\n",
    "        axes[1, i].set_title('No Whale')\n",
    "        axes[1, i].set_xticks([])\n",
    "        axes[1, i].set_yticks([])\n",
    "\n",
    "    plt.tight_layout()\n",
    "    plt.show()\n",
    "\n",
    "    # MULTIPLE SPECTROGRAMS\n",
    "    fig, axes = plt.subplots(2, 5, figsize=(15, 6))\n",
    "\n",
    "    for i in range(5):\n",
    "        whale_sample_spectrogram = get_melspectrogram(whale_sample.iloc[i])\n",
    "        img0 = librosa.display.specshow(whale_sample_spectrogram, sr=sampling_rate, hop_length=HOP_LENGTH, ax=axes[0, i], x_axis='time', y_axis='hz', cmap='magma', fmax=MAX_FREQ)\n",
    "        axes[0, i].set_title('Whale')\n",
    "        axes[0, i].set_ylim([0, MAX_FREQ])\n",
    "        axes[0, i].set_xticks([])\n",
    "        axes[0, i].set_yticks([])\n",
    "        axes[0, i].set_xlabel('')\n",
    "        axes[0, i].set_ylabel('')\n",
    "\n",
    "        noise_sample_spectrogram = get_melspectrogram(noise_sample.iloc[i])\n",
    "        img1 = librosa.display.specshow(noise_sample_spectrogram, sr=sampling_rate, hop_length=HOP_LENGTH, ax=axes[1, i], x_axis='time', y_axis='hz', cmap='magma', fmax=MAX_FREQ)\n",
    "        axes[1, i].set_title('No Whale')\n",
    "        axes[1, i].set_ylim([0, MAX_FREQ])\n",
    "        axes[1, i].set_xticks([])\n",
    "        axes[1, i].set_yticks([])\n",
    "        axes[1, i].set_xlabel('')\n",
    "        axes[1, i].set_ylabel('')\n",
    "\n",
    "    plt.tight_layout()\n",
    "    plt.show()\n",
    "\n",
    "    # TWO SPECTROGRAMS\n",
    "    whale_sample2 = dataset[dataset['label'] == 1].sample(1, random_state=SEED+1)['audio']\n",
    "    noise_sample2 = dataset[dataset['label'] == 0].sample(1, random_state=SEED+1)['audio']\n",
    "    \n",
    "    fig, axes = plt.subplots(1, 2, figsize=(7, 3))\n",
    "\n",
    "    whale_sample2_spectrogram = get_melspectrogram(whale_sample2.iloc[0])\n",
    "    img0 = librosa.display.specshow(whale_sample2_spectrogram, sr=sampling_rate, hop_length=HOP_LENGTH, ax=axes[0], x_axis='time', y_axis='hz', cmap='magma', fmax=MAX_FREQ)\n",
    "    axes[0].set_title('Whale')\n",
    "    axes[0].set_ylim([0, MAX_FREQ])\n",
    "    fig.colorbar(img0, ax=axes[0], format=\"%+2.0f dB\")\n",
    "\n",
    "    noise_sample2_spectrogram = get_melspectrogram(noise_sample2.iloc[0])\n",
    "    img1 = librosa.display.specshow(noise_sample2_spectrogram, sr=sampling_rate, hop_length=HOP_LENGTH, ax=axes[1], x_axis='time', y_axis='hz', cmap='magma', fmax=MAX_FREQ)\n",
    "    axes[1].set_title('No Whale')\n",
    "    axes[1].set_ylim([0, MAX_FREQ])\n",
    "    fig.colorbar(img1, ax=axes[1], format=\"%+2.0f dB\")\n",
    "\n",
    "    plt.tight_layout()\n",
    "    plt.show()\n",
    "\n",
    "def normalize(dataset:pd.DataFrame, column:str):\n",
    "    dataset[column] = dataset[column].apply(lambda x: x / np.max(np.abs(x)))\n",
    "\n",
    "def get_signal_energy(dataset:pd.DataFrame, column:str):\n",
    "    energy = []\n",
    "    df = dataset.copy()\n",
    "    for x in df[column]:\n",
    "        energy.append(np.sum(np.square(x)))\n",
    "    df['energy'] = energy\n",
    "\n",
    "    return df\n",
    "\n",
    "def get_melspectrogram(sample:pd.DataFrame, sampling_rate=SR, n_fft=N_FFT, hop_length=HOP_LENGTH, n_mels=N_MELS):\n",
    "    mel_spectrogram = librosa.feature.melspectrogram(y=np.array(sample), sr=sampling_rate, n_fft=n_fft, hop_length=hop_length, n_mels=n_mels, fmax=MAX_FREQ)\n",
    "    mel_spectrogram = librosa.power_to_db(mel_spectrogram, ref=np.max)\n",
    "    return mel_spectrogram\n",
    "\n",
    "def get_all_mel_spectrograms(audio_df, sampling_rate=SR, n_fft=N_FFT, hop_length=HOP_LENGTH, n_mels=N_MELS):\n",
    "    mel_specs = []\n",
    "    for audio in audio_df['audio']:\n",
    "        mel = get_melspectrogram(audio, sampling_rate, n_fft, hop_length, n_mels)\n",
    "        mel_specs.append(mel.flatten())\n",
    "    return np.array(mel_specs)\n",
    "\n",
    "def show_class_balance(dataset:pd.DataFrame):\n",
    "    plt.figure(figsize=(5, 4))\n",
    "    ax = sns.countplot(\n",
    "        x='label',\n",
    "        data=dataset,\n",
    "        palette={0: '#FF6961', 1: plt.rcParams['axes.prop_cycle'].by_key()['color'][0]},\n",
    "        hue='label',\n",
    "        legend=False\n",
    "    )\n",
    "    ax.set_xticks([0, 1])\n",
    "    ax.set_xticklabels(['Noise', 'Whale'])\n",
    "    ax.legend(['Noise', 'Whale'], title='Class')\n",
    "    plt.show()\n",
    "\n",
    "def extract_time_acoustic_features(dataset:pd.DataFrame):\n",
    "    new_features = []\n",
    "    for audio in dataset['audio']:\n",
    "        audio_np = np.array(audio)\n",
    "        acoustic_features = {\n",
    "            'rms_energy': np.mean(librosa.feature.rms(y=audio_np)),\n",
    "            'zcr': np.mean(librosa.feature.zero_crossing_rate(y=audio_np)),\n",
    "        }\n",
    "        new_features.append(acoustic_features)\n",
    "    features_df = pd.DataFrame(new_features)\n",
    "    return features_df\n",
    "\n",
    "def extract_frequency_acoustic_features(dataset:pd.DataFrame):\n",
    "    new_features = []\n",
    "    for audio in dataset['audio']:\n",
    "        audio_np = np.array(audio)\n",
    "        acoustic_features = {\n",
    "            'spectral_centroid': np.mean(librosa.feature.spectral_centroid(y=audio_np)),\n",
    "            'spectral_bandwidth': np.mean(librosa.feature.spectral_bandwidth(y=audio_np)),\n",
    "            'spectral_rolloff': np.mean(librosa.feature.spectral_rolloff(y=audio_np)),\n",
    "            'spectral_flatness': np.mean(librosa.feature.spectral_flatness(y=audio_np))\n",
    "        }\n",
    "        new_features.append(acoustic_features)\n",
    "    features_df = pd.DataFrame(new_features)\n",
    "    return features_df\n",
    "\n",
    "def extract_acoustic_features(dataset:pd.DataFrame):\n",
    "    time_features = extract_time_acoustic_features(dataset)\n",
    "    frequency_features = extract_frequency_acoustic_features(dataset)\n",
    "\n",
    "    new_df = pd.concat([dataset.reset_index(drop=True), time_features], axis=1)\n",
    "    new_df = pd.concat([new_df.reset_index(drop=True), frequency_features], axis=1)\n",
    "    \n",
    "    return new_df\n",
    "\n",
    "def display_features_boxplots(audio_features_df:pd.DataFrame):\n",
    "    time_features = ['rms_energy', 'zcr']\n",
    "    freq_features = ['spectral_centroid', 'spectral_bandwidth', 'spectral_rolloff', 'spectral_flatness']\n",
    "\n",
    "    # TIME\n",
    "    fig, axes = plt.subplots(1, len(time_features), figsize=(5 * len(time_features), 5))\n",
    "    if len(time_features) == 1:\n",
    "        axes = [axes]\n",
    "    for i, feature in enumerate(time_features):\n",
    "        sns.boxplot(x='label', y=feature, data=audio_features_df, ax=axes[i], showfliers=False)\n",
    "        axes[i].set_title(f'{feature} by Class')\n",
    "        axes[i].set_xlabel('Class')\n",
    "        axes[i].set_xticks([0, 1])\n",
    "        axes[i].set_xticklabels(['Noise', 'Whale'])\n",
    "\n",
    "    plt.suptitle('Time Domain Features by Class')\n",
    "    plt.tight_layout()\n",
    "    plt.show()\n",
    "\n",
    "    # FREQUENCY\n",
    "    fig, axes = plt.subplots(2, 2, figsize=(10, 10))\n",
    "    axes = axes.flatten()\n",
    "    for i, feature in enumerate(freq_features):\n",
    "        sns.boxplot(x='label', y=feature, data=audio_features_df, ax=axes[i], showfliers=False)\n",
    "        axes[i].set_title(f'{feature} by Class')\n",
    "        axes[i].set_xlabel('Class')\n",
    "        axes[i].set_xticks([0, 1])\n",
    "        axes[i].set_xticklabels(['Noise', 'Whale'])\n",
    "\n",
    "    plt.suptitle('Frequency Domain Features by Class')\n",
    "    plt.tight_layout()\n",
    "    plt.show()\n",
    "\n",
    "def plot_pca(dataset:pd.DataFrame, pca_arr):\n",
    "    plt.figure(figsize=(8,6))\n",
    "    scatter = sns.scatterplot(\n",
    "        x=pca_arr[:,0], \n",
    "        y=pca_arr[:,1], \n",
    "        hue=dataset['label'], \n",
    "        palette={0: '#FF6961', 1: '#1f77b4'}\n",
    "    )\n",
    "    plt.title('PCA of Mel Spectrograms')\n",
    "    plt.xlabel('PC 1')\n",
    "    plt.ylabel('PC 2')\n",
    "    # Fix legend labels and colors\n",
    "    handles, _ = scatter.get_legend_handles_labels()\n",
    "    scatter.legend(handles=handles, title='Class', labels=['Noise', 'Whale'])\n",
    "    plt.show()\n",
    "\n",
    "def plot_average_spectrograms(audio_df:pd.DataFrame):\n",
    "    whale_spectrograms = []\n",
    "    noise_spectrograms = []\n",
    "    for audio, label in zip(audio_df['audio'], audio_df['label']):\n",
    "        spectrogram = get_melspectrogram(audio)\n",
    "        if label == 1:\n",
    "            whale_spectrograms.append(spectrogram)\n",
    "        else: \n",
    "            noise_spectrograms.append(spectrogram)\n",
    "    \n",
    "    whale_spectrograms = np.array(whale_spectrograms)\n",
    "    noise_spectrograms = np.array(noise_spectrograms)\n",
    "\n",
    "    whale_average_spectrogram = whale_spectrograms.mean(axis=0)\n",
    "    noise_average_spectrogram = noise_spectrograms.mean(axis=0)\n",
    "    average_differences_spectrogram = whale_average_spectrogram - noise_average_spectrogram\n",
    "\n",
    "    fig, axes = plt.subplots(1, 3, figsize=(10, 3))\n",
    "    img0 = librosa.display.specshow(whale_average_spectrogram, sr=SR, hop_length=HOP_LENGTH, ax=axes[0], x_axis='time', y_axis='hz', cmap='magma', fmax=MAX_FREQ)\n",
    "    axes[0].set_title('Whale Call Average Spectrogram', pad=20)\n",
    "    axes[0].set_ylim([0, MAX_FREQ])\n",
    "    # axes[0].set_xticks([])\n",
    "    # axes[0].set_yticks([])\n",
    "    fig.colorbar(img0, ax=axes[0], format=\"%+2.0f dB\")\n",
    "\n",
    "    img1 = librosa.display.specshow(noise_average_spectrogram, sr=SR, hop_length=HOP_LENGTH, ax=axes[1], x_axis='time', y_axis='hz', cmap='magma', fmax=MAX_FREQ)\n",
    "    axes[1].set_title('No Whale Call Average Spectrogram', pad=20)\n",
    "    axes[1].set_ylim([0, MAX_FREQ])\n",
    "    # axes[1].set_xticks([])\n",
    "    # axes[1].set_yticks([])\n",
    "    fig.colorbar(img1, ax=axes[1], format=\"%+2.0f dB\")\n",
    "\n",
    "    img2 = librosa.display.specshow(average_differences_spectrogram, sr=SR, hop_length=HOP_LENGTH, ax=axes[2], x_axis='time', y_axis='hz', cmap='magma', fmax=MAX_FREQ)\n",
    "    axes[2].set_title('Average Differences Spectrogram', pad=20)\n",
    "    axes[2].set_ylim([0, MAX_FREQ])\n",
    "    # axes[2].set_xticks([])\n",
    "    # axes[2].set_yticks([])\n",
    "    fig.colorbar(img2, ax=axes[2], format=\"%+2.0f dB\")\n",
    "\n",
    "    # 3 subplots -> average spectrogram whale, noise, resto y consigo diferencias\n",
    "    plt.tight_layout()\n",
    "    plt.show()"
   ]
  },
  {
   "cell_type": "code",
   "execution_count": 8,
   "id": "ca0e9faf",
   "metadata": {},
   "outputs": [],
   "source": [
    "train_dir = 'data/whale-detection-challenge/data/train'\n",
    "test_dir = 'data/whale-detection-challenge/data/test'\n",
    "labels_dir = 'data/whale-detection-challenge/data/train.csv'\n",
    "\n",
    "audio_df, labels_df, test_files = load_data(train_dir, test_dir, labels_dir)"
   ]
  },
  {
   "cell_type": "code",
   "execution_count": 9,
   "id": "ee0b245c",
   "metadata": {},
   "outputs": [],
   "source": [
    "def normalize_spectrogram(spec, global_min, global_max):\n",
    "    norm_spec = (spec - global_min) / (global_max - global_min + 1e-8)\n",
    "    return norm_spec\n",
    "\n",
    "def denormalize_spectrogram(norm_spec, min_val, max_val):\n",
    "    return norm_spec * (max_val - min_val + 1e-8) + min_val\n",
    "\n",
    "def compute_global_min_max(audio_df):\n",
    "    whale_specs = [get_melspectrogram(audio) for audio, label in zip(audio_df['audio'], audio_df['label']) if label == 1]\n",
    "    global_min = np.min([spec.min() for spec in whale_specs])\n",
    "    global_max = np.max([spec.max() for spec in whale_specs])\n",
    "    return global_min, global_max\n",
    "\n",
    "def get_class_weights(y):\n",
    "    weights = compute_class_weight('balanced', classes=np.unique(y), y=y)\n",
    "    return torch.tensor(weights, dtype=torch.float32)"
   ]
  },
  {
   "cell_type": "code",
   "execution_count": 10,
   "id": "a9f674ce",
   "metadata": {},
   "outputs": [],
   "source": [
    "import torch\n",
    "import torch.nn as nn\n",
    "import torch.optim as optim\n",
    "from sklearn.metrics import roc_auc_score\n",
    "import copy \n",
    "\n",
    "class MLP(nn.Module):\n",
    "    def __init__(self, input_dim, hidden_layers=[256, 128, 64], output_dim=2):\n",
    "        super(MLP, self).__init__()\n",
    "        layers = []\n",
    "        prev_dim = input_dim\n",
    "\n",
    "        for hidden_layer in hidden_layers:\n",
    "            layers.append(nn.Linear(prev_dim, hidden_layer))\n",
    "            layers.append(nn.ReLU())\n",
    "            prev_dim = hidden_layer\n",
    "        layers.append(nn.Linear(prev_dim, output_dim))\n",
    "        self.model = nn.Sequential(*layers)\n",
    "        self.device = torch.device('mps' if torch.mps.is_available() else 'cuda' if torch.cuda.is_available() else 'cpu')\n",
    "\n",
    "    def forward(self, x):\n",
    "        return self.model(x)\n",
    "\n",
    "    def train_model(self, train_loader, val_loader, epochs=50, lr=0.001, weight_decay=1e-5,\n",
    "                    early_stopping_patience=None, use_class_weights=True):\n",
    "        self.to(self.device)\n",
    "\n",
    "        # Loss function\n",
    "        if use_class_weights:\n",
    "            y_train = train_loader.dataset.tensors[1].cpu().numpy().flatten()\n",
    "            weights = get_class_weights(y_train).to(self.device)\n",
    "            loss_function = nn.CrossEntropyLoss(weight=weights)\n",
    "        else:\n",
    "            loss_function = nn.CrossEntropyLoss()\n",
    "\n",
    "        optimizer = optim.Adam(self.parameters(), lr=lr, weight_decay=weight_decay)\n",
    "\n",
    "        train_losses = []\n",
    "        val_losses = []\n",
    "\n",
    "        best_val_f1 = 0.0\n",
    "        best_model_state = None\n",
    "        patience_counter = 0\n",
    "\n",
    "        for epoch in range(epochs):\n",
    "            self.train()\n",
    "            running_loss = 0.0\n",
    "            for inputs, labels in train_loader:\n",
    "                inputs, labels = inputs.to(self.device), labels.to(self.device)\n",
    "                optimizer.zero_grad()\n",
    "                outputs = self(inputs)\n",
    "                loss = loss_function(outputs, labels)\n",
    "                loss.backward()\n",
    "                optimizer.step()\n",
    "                running_loss += loss.item() * inputs.size(0)\n",
    "\n",
    "            avg_train_loss = running_loss / len(train_loader.dataset)\n",
    "            train_losses.append(avg_train_loss)\n",
    "\n",
    "            val_loss, val_acc, val_f1, val_auc = self.evaluate(val_loader, return_metrics=True)\n",
    "            val_losses.append(val_loss)\n",
    "\n",
    "            print(f'Epoch {epoch+1}/{epochs} | Train Loss: {avg_train_loss:.4f} | '\n",
    "                f'Val Loss: {val_loss:.4f} | Val Acc: {val_acc:.2f}% | Val F1: {val_f1:.4f} | Val AUC: {val_auc:.4f}')\n",
    "\n",
    "            # Early stopping con F1\n",
    "            if early_stopping_patience is not None:\n",
    "                if val_f1 > best_val_f1:\n",
    "                    best_val_f1 = val_f1\n",
    "                    best_model_state = copy.deepcopy(self.state_dict())\n",
    "                    patience_counter = 0\n",
    "                else:\n",
    "                    patience_counter += 1\n",
    "                    if patience_counter >= early_stopping_patience:\n",
    "                        print(\"Early stopping triggered (F1 no mejoró).\")\n",
    "                        break\n",
    "\n",
    "        # Restaurar el mejor modelo\n",
    "        if best_model_state is not None:\n",
    "            self.load_state_dict(best_model_state)\n",
    "\n",
    "        return train_losses, val_losses\n",
    "\n",
    "\n",
    "    from sklearn.metrics import accuracy_score, f1_score, roc_auc_score\n",
    "\n",
    "    def evaluate(self, val_loader, return_metrics=False):\n",
    "        self.eval()\n",
    "        val_loss = 0.0\n",
    "        all_labels = []\n",
    "        all_probs = []\n",
    "        all_preds = []\n",
    "\n",
    "        loss_function = nn.CrossEntropyLoss()\n",
    "        with torch.no_grad():\n",
    "            for inputs, labels in val_loader:\n",
    "                inputs, labels = inputs.to(self.device), labels.to(self.device)\n",
    "                outputs = self(inputs)\n",
    "                loss = loss_function(outputs, labels)\n",
    "                val_loss += loss.item() * inputs.size(0)\n",
    "\n",
    "                probs = torch.softmax(outputs, dim=1)[:, 1]\n",
    "                preds = torch.argmax(outputs, dim=1)\n",
    "\n",
    "                all_labels.extend(labels.cpu().numpy())\n",
    "                all_probs.extend(probs.cpu().numpy())\n",
    "                all_preds.extend(preds.cpu().numpy())\n",
    "\n",
    "        avg_val_loss = val_loss / len(val_loader.dataset)\n",
    "        acc = accuracy_score(all_labels, all_preds)\n",
    "        try:\n",
    "            auc = roc_auc_score(all_labels, all_probs)\n",
    "        except ValueError:\n",
    "            auc = 0.0  # puede fallar si hay una sola clase\n",
    "        f1 = f1_score(all_labels, all_preds)\n",
    "\n",
    "        if return_metrics:\n",
    "            return avg_val_loss, acc * 100, f1, auc\n",
    "\n",
    "        print(f'Validation Loss: {avg_val_loss:.4f}, Accuracy: {acc * 100:.2f}%, F1: {f1:.4f}, AUC: {auc:.4f}')"
   ]
  },
  {
   "cell_type": "code",
   "execution_count": 11,
   "id": "54a9ff4f",
   "metadata": {},
   "outputs": [
    {
     "name": "stdout",
     "output_type": "stream",
     "text": [
      "Using device: mps\n"
     ]
    }
   ],
   "source": [
    "audio_train_df = audio_df[audio_df['clip_name'].str.contains('train')]\n",
    "device = torch.device(\"mps\" if torch.backends.mps.is_available() else \"cpu\")\n",
    "print(f'Using device: {device}')"
   ]
  },
  {
   "cell_type": "markdown",
   "id": "dafd3a7a",
   "metadata": {},
   "source": [
    "#### MLP"
   ]
  },
  {
   "cell_type": "code",
   "execution_count": 12,
   "id": "21a6d04a",
   "metadata": {},
   "outputs": [],
   "source": [
    "X = get_all_mel_spectrograms(audio_train_df)\n",
    "y = audio_train_df['label'].values\n",
    "\n",
    "X_train, X_val, y_train, y_val = train_test_split(X, y, test_size=0.2, random_state=SEED, stratify=y)\n",
    "\n",
    "X_train_tensor = torch.tensor(X_train, dtype=torch.float32)\n",
    "y_train_tensor = torch.tensor(y_train, dtype=torch.long)\n",
    "X_val_tensor = torch.tensor(X_val, dtype=torch.float32)\n",
    "y_val_tensor = torch.tensor(y_val, dtype=torch.long)\n",
    "\n",
    "batch_size = 128\n",
    "train_loader = DataLoader(TensorDataset(X_train_tensor, y_train_tensor), batch_size=batch_size, shuffle=True)\n",
    "val_loader = DataLoader(TensorDataset(X_val_tensor, y_val_tensor), batch_size=batch_size)"
   ]
  },
  {
   "cell_type": "code",
   "execution_count": 13,
   "id": "3b093d95",
   "metadata": {},
   "outputs": [
    {
     "name": "stdout",
     "output_type": "stream",
     "text": [
      "Epoch 1/30 | Train Loss: 0.4336 | Val Loss: 0.5370 | Val Acc: 76.93% | Val F1: 0.6621 | Val AUC: 0.9102\n",
      "Epoch 2/30 | Train Loss: 0.3672 | Val Loss: 0.3812 | Val Acc: 83.83% | Val F1: 0.7251 | Val AUC: 0.9211\n",
      "Epoch 3/30 | Train Loss: 0.3453 | Val Loss: 0.3364 | Val Acc: 85.37% | Val F1: 0.7365 | Val AUC: 0.9267\n",
      "Epoch 4/30 | Train Loss: 0.3326 | Val Loss: 0.3000 | Val Acc: 86.05% | Val F1: 0.6557 | Val AUC: 0.9300\n",
      "Epoch 5/30 | Train Loss: 0.3241 | Val Loss: 0.3606 | Val Acc: 84.00% | Val F1: 0.7336 | Val AUC: 0.9338\n",
      "Epoch 6/30 | Train Loss: 0.3137 | Val Loss: 0.3595 | Val Acc: 84.85% | Val F1: 0.7423 | Val AUC: 0.9352\n",
      "Epoch 7/30 | Train Loss: 0.3075 | Val Loss: 0.3205 | Val Acc: 85.48% | Val F1: 0.7454 | Val AUC: 0.9374\n",
      "Epoch 8/30 | Train Loss: 0.3037 | Val Loss: 0.3270 | Val Acc: 86.20% | Val F1: 0.7542 | Val AUC: 0.9355\n",
      "Epoch 9/30 | Train Loss: 0.3079 | Val Loss: 0.2634 | Val Acc: 87.60% | Val F1: 0.7078 | Val AUC: 0.9417\n",
      "Epoch 10/30 | Train Loss: 0.2922 | Val Loss: 0.4507 | Val Acc: 80.75% | Val F1: 0.7024 | Val AUC: 0.9382\n",
      "Epoch 11/30 | Train Loss: 0.2918 | Val Loss: 0.3256 | Val Acc: 84.18% | Val F1: 0.7369 | Val AUC: 0.9417\n",
      "Epoch 12/30 | Train Loss: 0.2877 | Val Loss: 0.3352 | Val Acc: 84.75% | Val F1: 0.7433 | Val AUC: 0.9418\n",
      "Epoch 13/30 | Train Loss: 0.2783 | Val Loss: 0.2882 | Val Acc: 86.68% | Val F1: 0.7574 | Val AUC: 0.9426\n",
      "Epoch 14/30 | Train Loss: 0.2851 | Val Loss: 0.3501 | Val Acc: 84.12% | Val F1: 0.7375 | Val AUC: 0.9422\n",
      "Epoch 15/30 | Train Loss: 0.2753 | Val Loss: 0.2773 | Val Acc: 87.48% | Val F1: 0.7652 | Val AUC: 0.9438\n",
      "Epoch 16/30 | Train Loss: 0.2778 | Val Loss: 0.3088 | Val Acc: 85.83% | Val F1: 0.7500 | Val AUC: 0.9412\n",
      "Epoch 17/30 | Train Loss: 0.2662 | Val Loss: 0.3142 | Val Acc: 85.00% | Val F1: 0.7468 | Val AUC: 0.9458\n",
      "Epoch 18/30 | Train Loss: 0.2722 | Val Loss: 0.2729 | Val Acc: 87.98% | Val F1: 0.7532 | Val AUC: 0.9420\n",
      "Epoch 19/30 | Train Loss: 0.2679 | Val Loss: 0.2548 | Val Acc: 88.53% | Val F1: 0.7613 | Val AUC: 0.9451\n",
      "Epoch 20/30 | Train Loss: 0.2650 | Val Loss: 0.2769 | Val Acc: 87.12% | Val F1: 0.7634 | Val AUC: 0.9447\n",
      "Epoch 21/30 | Train Loss: 0.2609 | Val Loss: 0.2644 | Val Acc: 88.68% | Val F1: 0.7446 | Val AUC: 0.9445\n",
      "Epoch 22/30 | Train Loss: 0.2562 | Val Loss: 0.3898 | Val Acc: 83.87% | Val F1: 0.7349 | Val AUC: 0.9440\n",
      "Epoch 23/30 | Train Loss: 0.2549 | Val Loss: 0.2987 | Val Acc: 87.13% | Val F1: 0.7670 | Val AUC: 0.9444\n",
      "Epoch 24/30 | Train Loss: 0.2534 | Val Loss: 0.2525 | Val Acc: 88.63% | Val F1: 0.7704 | Val AUC: 0.9462\n",
      "Epoch 25/30 | Train Loss: 0.2539 | Val Loss: 0.2973 | Val Acc: 86.05% | Val F1: 0.7369 | Val AUC: 0.9339\n",
      "Epoch 26/30 | Train Loss: 0.2533 | Val Loss: 0.3351 | Val Acc: 84.90% | Val F1: 0.7458 | Val AUC: 0.9451\n",
      "Epoch 27/30 | Train Loss: 0.2502 | Val Loss: 0.3342 | Val Acc: 85.03% | Val F1: 0.7428 | Val AUC: 0.9400\n",
      "Epoch 28/30 | Train Loss: 0.2473 | Val Loss: 0.3028 | Val Acc: 86.38% | Val F1: 0.7565 | Val AUC: 0.9443\n",
      "Epoch 29/30 | Train Loss: 0.2519 | Val Loss: 0.2895 | Val Acc: 86.53% | Val F1: 0.7569 | Val AUC: 0.9449\n",
      "Epoch 30/30 | Train Loss: 0.2440 | Val Loss: 0.3581 | Val Acc: 84.18% | Val F1: 0.7381 | Val AUC: 0.9449\n"
     ]
    }
   ],
   "source": [
    "mlp_torch = MLP(X_train.shape[1])\n",
    "mlp_torch.to(device)\n",
    "train_losses, val_losses = mlp_torch.train_model(train_loader, val_loader, epochs=30, lr=1e-4)"
   ]
  },
  {
   "cell_type": "code",
   "execution_count": 14,
   "id": "b54eb8ea",
   "metadata": {},
   "outputs": [
    {
     "name": "stdout",
     "output_type": "stream",
     "text": [
      "Validation Loss: 0.3581, Accuracy: 84.18%, F1: 0.7381, AUC: 0.9449\n"
     ]
    }
   ],
   "source": [
    "mlp_torch.evaluate(val_loader)"
   ]
  },
  {
   "cell_type": "markdown",
   "id": "1da19c02",
   "metadata": {},
   "source": [
    "#### VAE"
   ]
  },
  {
   "cell_type": "code",
   "execution_count": 15,
   "id": "ac36dcb1",
   "metadata": {},
   "outputs": [],
   "source": [
    "# VARIATIONAL AUTOENCODER MODEL\n",
    "\n",
    "class BetaVAE(nn.Module):\n",
    "    def __init__(self, latent_dim=32):\n",
    "        super(BetaVAE, self).__init__()\n",
    "\n",
    "        # Encoder\n",
    "        self.enc = nn.Sequential(\n",
    "            # (1, 64, 64) -> (32, 32, 32)\n",
    "            nn.Conv2d(1, 32, kernel_size=4, stride=2, padding=1),\n",
    "            nn.ReLU(),\n",
    "            # (32, 32, 32) -> (64, 16, 16)\n",
    "            nn.Conv2d(32, 64, kernel_size=4, stride=2, padding=1),\n",
    "            nn.ReLU(),\n",
    "            # (64, 16, 16) -> (128, 8, 8)\n",
    "            nn.Conv2d(64, 128, kernel_size=4, stride=2, padding=1),\n",
    "            nn.ReLU(),\n",
    "            # (128, 8, 8) -> (256, 4, 4)\n",
    "            nn.Conv2d(128, 256, kernel_size=4, stride=2, padding=1),\n",
    "            nn.ReLU(),\n",
    "        )\n",
    "        self.fc_mu = nn.Linear(256 * 4 * 4, latent_dim)\n",
    "        self.fc_logvar = nn.Linear(256 * 4 * 4, latent_dim)\n",
    "\n",
    "        # Decoder\n",
    "        self.decoder_fc = nn.Linear(latent_dim, 256 * 4 * 4)\n",
    "        self.dec = nn.Sequential(\n",
    "            # (256, 4, 4) -> (128, 8, 8)\n",
    "            nn.ConvTranspose2d(256, 128, kernel_size=4, stride=2, padding=1),\n",
    "            nn.ReLU(),\n",
    "            # (128, 8, 8) -> (64, 16, 16)\n",
    "            nn.ConvTranspose2d(128, 64, kernel_size=4, stride=2, padding=1),\n",
    "            nn.ReLU(),\n",
    "            # (64, 16, 16) -> (32, 32, 32)\n",
    "            nn.ConvTranspose2d(64, 32, kernel_size=4, stride=2, padding=1),\n",
    "            nn.ReLU(),\n",
    "            # (32, 32, 32) -> (1, 64, 64)\n",
    "            nn.ConvTranspose2d(32, 1, kernel_size=4, stride=2, padding=1),\n",
    "            # Sin activación final para MSE loss (usá Sigmoid para [0,1])\n",
    "        )\n",
    "\n",
    "    def encode(self, x):\n",
    "        h = self.enc(x)\n",
    "        h = h.view(h.size(0), -1)\n",
    "        return self.fc_mu(h), self.fc_logvar(h)\n",
    "\n",
    "    def reparameterize(self, mu, logvar):\n",
    "        std = torch.exp(0.5 * logvar)\n",
    "        eps = torch.randn_like(std)\n",
    "        return mu + eps * std\n",
    "\n",
    "    def decode(self, z):\n",
    "        h = self.decoder_fc(z).view(-1, 256, 4, 4)\n",
    "        return self.dec(h)\n",
    "\n",
    "    def forward(self, x):\n",
    "        mu, logvar = self.encode(x)\n",
    "        z = self.reparameterize(mu, logvar)\n",
    "        recon = self.decode(z)\n",
    "        return recon, mu, logvar\n",
    "        \n",
    "    def bvae_loss(self, recon_x, x, mu, logvar, beta=1.0):\n",
    "        recon_loss = F.mse_loss(recon_x, x, reduction='sum')\n",
    "        kld_loss = -0.5 * torch.sum(1 + logvar - mu.pow(2) - logvar.exp())\n",
    "        return recon_loss + beta * kld_loss, recon_loss, kld_loss\n"
   ]
  },
  {
   "cell_type": "code",
   "execution_count": 16,
   "id": "d8cf4421",
   "metadata": {},
   "outputs": [],
   "source": [
    "whale_audios = audio_df[audio_df['label'] == 1]"
   ]
  },
  {
   "cell_type": "code",
   "execution_count": 17,
   "id": "3390dd5d",
   "metadata": {},
   "outputs": [],
   "source": [
    "mel_specs = []\n",
    "for whale_audio in whale_audios['audio']:\n",
    "    mel = get_melspectrogram(whale_audio) # shape: (64, 64)\n",
    "    mel = mel[np.newaxis, :, :] # shape: (1, 64, 64)\n",
    "    mel_specs.append(mel)"
   ]
  },
  {
   "cell_type": "code",
   "execution_count": 18,
   "id": "aab59e88",
   "metadata": {},
   "outputs": [
    {
     "name": "stdout",
     "output_type": "stream",
     "text": [
      "Global mean: -21.893871307373047, Global std: 11.335022926330566\n",
      "Shape of X: (7027, 1, 64, 64)\n"
     ]
    }
   ],
   "source": [
    "X = np.array(mel_specs)\n",
    "global_mean = X.mean()\n",
    "global_std = X.std()\n",
    "X = (X - global_mean) / (global_std + 1e-8)\n",
    "\n",
    "print(f'Global mean: {global_mean}, Global std: {global_std}')\n",
    "print(f'Shape of X: {X.shape}')"
   ]
  },
  {
   "cell_type": "code",
   "execution_count": 19,
   "id": "6285a7cb",
   "metadata": {},
   "outputs": [
    {
     "name": "stdout",
     "output_type": "stream",
     "text": [
      "[✔] Modelo cargado desde: saved_models/bvae.pt\n"
     ]
    }
   ],
   "source": [
    "def load_model(path=\"saved_models/bvae.pt\"):\n",
    "    device = torch.device(\"mps\" if torch.mps.is_available() else \"cpu\")\n",
    "    model = BetaVAE().to(device)\n",
    "    state_dict = torch.load(path, map_location=device, weights_only=True)\n",
    "    model.load_state_dict(state_dict)\n",
    "    model.eval()\n",
    "    print(f\"[✔] Modelo cargado desde: {path}\")\n",
    "    return model\n",
    "\n",
    "BVAE = load_model()"
   ]
  },
  {
   "cell_type": "code",
   "execution_count": 20,
   "id": "8f88ff2c",
   "metadata": {},
   "outputs": [
    {
     "data": {
      "image/png": "[encoded data removed]",
      "text/plain": [
       "<Figure size 1200x300 with 8 Axes>"
      ]
     },
     "metadata": {},
     "output_type": "display_data"
    }
   ],
   "source": [
    "latent_dim = 32\n",
    "\n",
    "with torch.no_grad():\n",
    "    # 1. Generá un batch de vectores latentes Z ~ N(0, I)\n",
    "    z_samples = torch.randn(4, latent_dim).to(device)  # Por ejemplo, 4 muestras\n",
    "    # 2. Decodificá los Z para obtener espectrogramas\n",
    "    generated_specs = BVAE.decode(z_samples)\n",
    "\n",
    "# Ahora `generated_specs` es un tensor de shape [4, 1, 64, 64]\n",
    "\n",
    "generated_specs = generated_specs.cpu().numpy()\n",
    "\n",
    "fig, axes = plt.subplots(1, generated_specs.shape[0], figsize=(3 * generated_specs.shape[0], 3))\n",
    "for i in range(generated_specs.shape[0]):\n",
    "    spec = generated_specs[i, 0, :, :]\n",
    "    spec = spec * global_std + global_mean\n",
    "    ax = axes[i] if generated_specs.shape[0] > 1 else axes\n",
    "    im = ax.imshow(spec, aspect='auto', origin='lower', cmap='magma')\n",
    "    ax.set_title(f\"Spec generado {i}\")\n",
    "    ax.axis('off')\n",
    "    fig.colorbar(im, ax=ax, fraction=0.046, pad=0.04)\n",
    "plt.tight_layout()\n",
    "plt.show()"
   ]
  },
  {
   "cell_type": "markdown",
   "id": "01beba34",
   "metadata": {},
   "source": [
    "#### DATA AUGMENTATION"
   ]
  },
  {
   "cell_type": "code",
   "execution_count": 21,
   "id": "dcf98d30",
   "metadata": {},
   "outputs": [
    {
     "name": "stdout",
     "output_type": "stream",
     "text": [
      "De los 24000 datos que se usan para entrenar: 5622 son de ballena y 18378 son de ruido, por ende falta completar con 12756 audios de ballena.\n"
     ]
    }
   ],
   "source": [
    "datos_totales = len(y_train)\n",
    "audios_ballena = np.count_nonzero(y_train)\n",
    "audios_ruido = datos_totales - audios_ballena\n",
    "ballenas_faltantes = audios_ruido - audios_ballena\n",
    "\n",
    "print(f'De los {datos_totales} datos que se usan para entrenar: {audios_ballena} son de ballena y {audios_ruido} son de ruido, por ende falta completar con {ballenas_faltantes} audios de ballena.')"
   ]
  },
  {
   "cell_type": "code",
   "execution_count": 22,
   "id": "afecfb92",
   "metadata": {},
   "outputs": [
    {
     "name": "stdout",
     "output_type": "stream",
     "text": [
      "X_train shape: (24000, 4096)\n",
      "y_train shape: (24000,)\n"
     ]
    }
   ],
   "source": [
    "print(f'X_train shape: {(X_train.shape)}')\n",
    "print(f'y_train shape: {(y_train.shape)}')"
   ]
  },
  {
   "cell_type": "code",
   "execution_count": 23,
   "id": "d5085f3f",
   "metadata": {
    "vscode": {
     "languageId": "ruby"
    }
   },
   "outputs": [],
   "source": [
    "# Generate new whale samples using the trained BVAE\n",
    "n_new_samples = ballenas_faltantes  # 12756\n",
    "\n",
    "# Generate latent vectors\n",
    "z_new = torch.randn(n_new_samples, latent_dim).to(device)\n",
    "\n",
    "# Decode to spectrograms\n",
    "with torch.no_grad():\n",
    "    generated_specs = BVAE.decode(z_new).cpu().numpy()  # shape: (n_new_samples, 1, 64, 64)\n",
    "\n",
    "# Remove channel dimension and destandardize\n",
    "generated_specs = generated_specs[:, 0, :, :]  # shape: (n_new_samples, 64, 64)\n",
    "generated_specs = generated_specs * global_std + global_mean\n",
    "\n",
    "# Flatten to match X_train shape\n",
    "generated_specs_flat = generated_specs.reshape(n_new_samples, -1)\n",
    "\n",
    "# Concatenate to X_train and y_train\n",
    "X_train_aug = np.concatenate([X_train, generated_specs_flat], axis=0)\n",
    "y_train_aug = np.concatenate([y_train, np.ones(n_new_samples, dtype=int)], axis=0)"
   ]
  },
  {
   "cell_type": "code",
   "execution_count": 24,
   "id": "abb96dc8",
   "metadata": {
    "vscode": {
     "languageId": "ruby"
    }
   },
   "outputs": [
    {
     "name": "stdout",
     "output_type": "stream",
     "text": [
      "X_train shape: (36756, 4096)\n",
      "y_train shape: (36756,)\n"
     ]
    }
   ],
   "source": [
    "print(f'X_train shape: {(X_train_aug.shape)}')\n",
    "print(f'y_train shape: {(y_train_aug.shape)}')"
   ]
  },
  {
   "cell_type": "code",
   "execution_count": 25,
   "id": "4e3959ed",
   "metadata": {
    "vscode": {
     "languageId": "ruby"
    }
   },
   "outputs": [],
   "source": [
    "X_train_aug_tensor = torch.tensor(X_train_aug, dtype=torch.float32)\n",
    "y_train_aug_tensor = torch.tensor(y_train_aug, dtype=torch.long)\n",
    "\n",
    "aug_train_loader = DataLoader(TensorDataset(X_train_aug_tensor, y_train_aug_tensor), batch_size=batch_size, shuffle=True)"
   ]
  },
  {
   "cell_type": "code",
   "execution_count": 26,
   "id": "6146579a",
   "metadata": {
    "vscode": {
     "languageId": "ruby"
    }
   },
   "outputs": [
    {
     "name": "stdout",
     "output_type": "stream",
     "text": [
      "Epoch 1/30 | Train Loss: 0.4050 | Val Loss: 0.4210 | Val Acc: 83.12% | Val F1: 0.7227 | Val AUC: 0.9173\n",
      "Epoch 2/30 | Train Loss: 0.3293 | Val Loss: 0.2995 | Val Acc: 86.88% | Val F1: 0.7518 | Val AUC: 0.9284\n",
      "Epoch 3/30 | Train Loss: 0.3152 | Val Loss: 0.2983 | Val Acc: 87.08% | Val F1: 0.7384 | Val AUC: 0.9270\n",
      "Epoch 4/30 | Train Loss: 0.3022 | Val Loss: 0.2688 | Val Acc: 87.37% | Val F1: 0.7483 | Val AUC: 0.9370\n",
      "Epoch 5/30 | Train Loss: 0.2801 | Val Loss: 0.2799 | Val Acc: 87.35% | Val F1: 0.7481 | Val AUC: 0.9359\n",
      "Epoch 6/30 | Train Loss: 0.2734 | Val Loss: 0.3525 | Val Acc: 85.25% | Val F1: 0.7469 | Val AUC: 0.9356\n",
      "Epoch 7/30 | Train Loss: 0.2704 | Val Loss: 0.4499 | Val Acc: 79.15% | Val F1: 0.6864 | Val AUC: 0.9368\n",
      "Epoch 8/30 | Train Loss: 0.2610 | Val Loss: 0.2546 | Val Acc: 88.13% | Val F1: 0.7452 | Val AUC: 0.9434\n",
      "Epoch 9/30 | Train Loss: 0.2546 | Val Loss: 0.4694 | Val Acc: 82.00% | Val F1: 0.7164 | Val AUC: 0.9348\n",
      "Epoch 10/30 | Train Loss: 0.2455 | Val Loss: 0.4501 | Val Acc: 81.93% | Val F1: 0.7158 | Val AUC: 0.9396\n",
      "Epoch 11/30 | Train Loss: 0.2450 | Val Loss: 0.2799 | Val Acc: 87.97% | Val F1: 0.7481 | Val AUC: 0.9408\n",
      "Epoch 12/30 | Train Loss: 0.2467 | Val Loss: 0.2479 | Val Acc: 88.85% | Val F1: 0.7681 | Val AUC: 0.9465\n",
      "Epoch 13/30 | Train Loss: 0.2372 | Val Loss: 0.2939 | Val Acc: 87.72% | Val F1: 0.7074 | Val AUC: 0.9430\n",
      "Epoch 14/30 | Train Loss: 0.2330 | Val Loss: 0.2596 | Val Acc: 88.28% | Val F1: 0.7700 | Val AUC: 0.9459\n",
      "Epoch 15/30 | Train Loss: 0.2399 | Val Loss: 0.2890 | Val Acc: 88.20% | Val F1: 0.7408 | Val AUC: 0.9422\n",
      "Epoch 16/30 | Train Loss: 0.2306 | Val Loss: 0.4114 | Val Acc: 83.55% | Val F1: 0.7324 | Val AUC: 0.9430\n",
      "Epoch 17/30 | Train Loss: 0.2297 | Val Loss: 0.3369 | Val Acc: 84.98% | Val F1: 0.7441 | Val AUC: 0.9444\n",
      "Epoch 18/30 | Train Loss: 0.2266 | Val Loss: 0.3051 | Val Acc: 86.32% | Val F1: 0.7520 | Val AUC: 0.9428\n",
      "Epoch 19/30 | Train Loss: 0.2264 | Val Loss: 0.3609 | Val Acc: 83.78% | Val F1: 0.7323 | Val AUC: 0.9419\n",
      "Epoch 20/30 | Train Loss: 0.2204 | Val Loss: 0.2777 | Val Acc: 87.15% | Val F1: 0.7501 | Val AUC: 0.9405\n",
      "Epoch 21/30 | Train Loss: 0.2136 | Val Loss: 0.2922 | Val Acc: 86.82% | Val F1: 0.7628 | Val AUC: 0.9436\n",
      "Epoch 22/30 | Train Loss: 0.2126 | Val Loss: 0.2737 | Val Acc: 88.18% | Val F1: 0.7702 | Val AUC: 0.9463\n",
      "Epoch 23/30 | Train Loss: 0.2121 | Val Loss: 0.2996 | Val Acc: 87.88% | Val F1: 0.7348 | Val AUC: 0.9427\n",
      "Epoch 24/30 | Train Loss: 0.2103 | Val Loss: 0.3907 | Val Acc: 85.73% | Val F1: 0.7532 | Val AUC: 0.9429\n",
      "Epoch 25/30 | Train Loss: 0.2051 | Val Loss: 0.2675 | Val Acc: 88.22% | Val F1: 0.7363 | Val AUC: 0.9443\n",
      "Epoch 26/30 | Train Loss: 0.2098 | Val Loss: 0.2907 | Val Acc: 88.32% | Val F1: 0.7648 | Val AUC: 0.9460\n",
      "Epoch 27/30 | Train Loss: 0.1957 | Val Loss: 0.4403 | Val Acc: 83.32% | Val F1: 0.7291 | Val AUC: 0.9373\n",
      "Epoch 28/30 | Train Loss: 0.2056 | Val Loss: 0.3177 | Val Acc: 86.33% | Val F1: 0.7570 | Val AUC: 0.9437\n",
      "Epoch 29/30 | Train Loss: 0.1924 | Val Loss: 0.3225 | Val Acc: 86.65% | Val F1: 0.7582 | Val AUC: 0.9419\n",
      "Epoch 30/30 | Train Loss: 0.1918 | Val Loss: 0.2713 | Val Acc: 87.62% | Val F1: 0.7361 | Val AUC: 0.9402\n"
     ]
    }
   ],
   "source": [
    "new_MLP = MLP(X_train_aug.shape[1])\n",
    "new_MLP.to(device)\n",
    "aug_train_losses, aug_val_losses = new_MLP.train_model(aug_train_loader, val_loader, epochs=30, lr=1e-4)"
   ]
  },
  {
   "cell_type": "code",
   "execution_count": 27,
   "id": "c6d522ce",
   "metadata": {
    "vscode": {
     "languageId": "ruby"
    }
   },
   "outputs": [
    {
     "name": "stdout",
     "output_type": "stream",
     "text": [
      "Validation Loss: 0.2713, Accuracy: 87.62%, F1: 0.7361, AUC: 0.9402\n"
     ]
    }
   ],
   "source": [
    "new_MLP.evaluate(val_loader)"
   ]
  }
 ],
 "metadata": {
  "kernelspec": {
   "display_name": "fia",
   "language": "python",
   "name": "python3"
  },
  "language_info": {
   "codemirror_mode": {
    "name": "ipython",
    "version": 3
   },
   "file_extension": ".py",
   "mimetype": "text/x-python",
   "name": "python",
   "nbconvert_exporter": "python",
   "pygments_lexer": "ipython3",
   "version": "3.12.4"
  }
 },
 "nbformat": 4,
 "nbformat_minor": 5
}
